{
 "cells": [
  {
   "cell_type": "code",
   "execution_count": 1,
   "id": "7222a555-ae6f-4099-a8a2-cdcd948362fe",
   "metadata": {},
   "outputs": [
    {
     "name": "stdout",
     "output_type": "stream",
     "text": [
      "Module(\n",
      "    body=[\n",
      "        Assign(\n",
      "            targets=[\n",
      "                Name(id='a', ctx=Store())],\n",
      "            value=List(\n",
      "                elts=[\n",
      "                    Constant(value=10),\n",
      "                    Constant(value=20),\n",
      "                    Constant(value=30),\n",
      "                    Constant(value=40)],\n",
      "                ctx=Load())),\n",
      "        Assign(\n",
      "            targets=[\n",
      "                Name(id='c', ctx=Store())],\n",
      "            value=Constant(value=0)),\n",
      "        For(\n",
      "            target=Name(id='i', ctx=Store()),\n",
      "            iter=Call(\n",
      "                func=Name(id='range', ctx=Load()),\n",
      "                args=[\n",
      "                    Call(\n",
      "                        func=Name(id='len', ctx=Load()),\n",
      "                        args=[\n",
      "                            Name(id='a', ctx=Load())],\n",
      "                        keywords=[])],\n",
      "                keywords=[]),\n",
      "            body=[\n",
      "                Assign(\n",
      "                    targets=[\n",
      "                        Name(id='c', ctx=Store())],\n",
      "                    value=BinOp(\n",
      "                        left=Name(id='c', ctx=Load()),\n",
      "                        op=Add(),\n",
      "                        right=Subscript(\n",
      "                            value=Name(id='a', ctx=Load()),\n",
      "                            slice=Name(id='i', ctx=Load()),\n",
      "                            ctx=Load())))],\n",
      "            orelse=[]),\n",
      "        Expr(\n",
      "            value=Call(\n",
      "                func=Name(id='print', ctx=Load()),\n",
      "                args=[\n",
      "                    Constant(value='hi'),\n",
      "                    Name(id='c', ctx=Load())],\n",
      "                keywords=[]))],\n",
      "    type_ignores=[])\n"
     ]
    }
   ],
   "source": [
    "import ast\n",
    "\n",
    "def generate_ast_from_file(file_path):\n",
    "    # Read the file content\n",
    "    with open(file_path, 'r') as file:\n",
    "        file_content = file.read()\n",
    "    \n",
    "    # Parse the file content into an AST\n",
    "    tree = ast.parse(file_content, filename=file_path)\n",
    "    \n",
    "    # Print the AST in a readable format\n",
    "    print(ast.dump(tree, indent=4))\n",
    "\n",
    "# Usage\n",
    "file_path = 'untitled.py'  # Replace with the path to your Python file\n",
    "generate_ast_from_file(file_path)\n"
   ]
  },
  {
   "cell_type": "code",
   "execution_count": null,
   "id": "486c68ff-15a6-444f-a896-58964ff009a2",
   "metadata": {},
   "outputs": [],
   "source": []
  }
 ],
 "metadata": {
  "kernelspec": {
   "display_name": "Python 3 (ipykernel)",
   "language": "python",
   "name": "python3"
  },
  "language_info": {
   "codemirror_mode": {
    "name": "ipython",
    "version": 3
   },
   "file_extension": ".py",
   "mimetype": "text/x-python",
   "name": "python",
   "nbconvert_exporter": "python",
   "pygments_lexer": "ipython3",
   "version": "3.11.7"
  }
 },
 "nbformat": 4,
 "nbformat_minor": 5
}
